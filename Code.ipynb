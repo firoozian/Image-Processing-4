{
 "cells": [
  {
   "cell_type": "code",
   "execution_count": 1,
   "id": "ebf7094e-9f68-4d40-932d-90d5541b070b",
   "metadata": {},
   "outputs": [
    {
     "name": "stdout",
     "output_type": "stream",
     "text": [
      "IMG: C:\\Probook\\E\\AI\\Projects\\Image Processing\\Vehicels\\data\\Vehicle_Detection_Image_Dataset\\sample_image.jpg\n",
      "IMAGES_DIR: C:\\Probook\\E\\AI\\Projects\\Image Processing\\Vehicels\\data\\Vehicle_Detection_Image_Dataset\\valid\\images\n",
      "VID: C:\\Probook\\E\\AI\\Projects\\Image Processing\\Vehicels\\data\\Vehicle_Detection_Image_Dataset\\sample_video.mp4\n"
     ]
    }
   ],
   "source": [
    "from pathlib import Path\n",
    "from ultralytics import YOLO\n",
    "import cv2\n",
    "import numpy as np\n",
    "\n",
    "# Paths\n",
    "\n",
    "ROOT = Path(r\"C:/Probook/E/AI/Projects/Image Processing/Vehicels/data/Vehicle_Detection_Image_Dataset\")\n",
    "IMAGES_DIR_VALID = ROOT / \"valid\" / \"images\"\n",
    "IMAGES_DIR_TRAIN = ROOT / \"train\" / \"images\"\n",
    "\n",
    "IMAGES_DIR = IMAGES_DIR_VALID if IMAGES_DIR_VALID.exists() else IMAGES_DIR_TRAIN\n",
    "\n",
    "IMG = ROOT / \"sample_image.jpg\"\n",
    "if not IMG.exists():\n",
    "    jpgs = list(IMAGES_DIR.glob(\"*.jpg\"))\n",
    "    IMG = jpgs[0] if jpgs else None\n",
    "\n",
    "VID = ROOT / \"sample_video.mp4\"\n",
    "if not VID.exists():\n",
    "    vids = list(ROOT.glob(\"*.mp4\")) + list(ROOT.glob(\"*.avi\"))\n",
    "    VID = vids[0] if vids else None\n",
    "\n",
    "print(\"IMG:\", IMG)\n",
    "print(\"IMAGES_DIR:\", IMAGES_DIR)\n",
    "print(\"VID:\", VID)\n",
    "assert IMG is not None and IMG.exists(), \"No image found. Check ROOT or files.\"\n",
    "\n",
    "# Model & Params\n",
    "\n",
    "WEIGHTS = \"yolov8l.pt\"\n",
    "IMG_SIZE = 1280\n",
    "CONF = 0.45\n",
    "IOU  = 0.80\n",
    "MAX_DET = 1000\n",
    "DEVICE = 0\n",
    "AUGMENT = True\n",
    "CLASSES = [2, 3, 5, 7]  # car, motorcycle, bus, truck\n",
    "\n",
    "model = YOLO(WEIGHTS)"
   ]
  },
  {
   "cell_type": "code",
   "execution_count": 2,
   "id": "df781fc7-2fd6-448a-bbfe-e41f77f8d722",
   "metadata": {},
   "outputs": [
    {
     "name": "stdout",
     "output_type": "stream",
     "text": [
      "\n",
      "image 1/1 C:\\Probook\\E\\AI\\Projects\\Image Processing\\Vehicels\\data\\Vehicle_Detection_Image_Dataset\\sample_image.jpg: 736x1280 6 cars, 3 trucks, 356.4ms\n",
      "Speed: 9.9ms preprocess, 356.4ms inference, 88.8ms postprocess per image at shape (1, 3, 736, 1280)\n",
      "Results saved to \u001b[1mC:\\Users\\Asus\\ENV\\YOLOV8\\vehicle detection\\runs\\detect\\step1_image_overlap\u001b[0m\n",
      "Image out: C:\\Users\\Asus\\ENV\\YOLOV8\\vehicle detection\\runs\\detect\\step1_image_overlap\n"
     ]
    }
   ],
   "source": [
    "# Single Image\n",
    "out_dir_img = Path(\"runs/detect/step1_image_overlap\")\n",
    "_ = model.predict(\n",
    "    source=str(IMG),\n",
    "    imgsz=IMG_SIZE,\n",
    "    conf=CONF,\n",
    "    iou=IOU,\n",
    "    classes=CLASSES,\n",
    "    device= DEVICE,  \n",
    "    max_det=MAX_DET,\n",
    "    augment=AUGMENT,\n",
    "    save=True,\n",
    "    project=\"runs/detect\",\n",
    "    name=\"step1_image_overlap\",\n",
    "    exist_ok=True,\n",
    "    show_conf=False\n",
    ")\n",
    "print(\"Image out:\", out_dir_img.resolve())\n"
   ]
  },
  {
   "cell_type": "code",
   "execution_count": 6,
   "id": "9475a8dc-bb31-4ce2-9249-a5d81c47549c",
   "metadata": {},
   "outputs": [
    {
     "name": "stdout",
     "output_type": "stream",
     "text": [
      "Results saved to \u001b[1mC:\\Users\\Asus\\ENV\\YOLOV8\\vehicle detection\\runs\\detect\\step2_folder_overlap\u001b[0m\n",
      "Folder out: C:\\Users\\Asus\\ENV\\YOLOV8\\vehicle detection\\runs\\detect\\step2_folder_overlap\n"
     ]
    }
   ],
   "source": [
    "# Folder of Images\n",
    "out_dir_folder = Path(\"runs/detect/step2_folder_overlap\")\n",
    "_ = model.predict(\n",
    "    source=str(IMAGES_DIR),\n",
    "    imgsz=IMG_SIZE,\n",
    "    conf=CONF,\n",
    "    iou=IOU,\n",
    "    classes=CLASSES,\n",
    "    device=DEVICE,\n",
    "    max_det=MAX_DET,\n",
    "    augment=AUGMENT,\n",
    "    save=True,\n",
    "    project=\"runs/detect\",\n",
    "    name=\"step2_folder_overlap\",\n",
    "    exist_ok=True,\n",
    "    show_conf=False,\n",
    "    verbose=False\n",
    ")\n",
    "print(\"Folder out:\", out_dir_folder.resolve())"
   ]
  },
  {
   "cell_type": "code",
   "execution_count": 9,
   "id": "2559e5e6-d78a-4e3a-9317-243df3448187",
   "metadata": {},
   "outputs": [
    {
     "name": "stdout",
     "output_type": "stream",
     "text": [
      "Video out: C:\\Users\\Asus\\ENV\\YOLOV8\\vehicle detection\\runs\\detect\\step3_video_fast_gpu\n"
     ]
    }
   ],
   "source": [
    "# Video Output\n",
    "\n",
    "if VID is None or not Path(VID).exists():\n",
    "    print(\"No video found. Skipping video step.\")\n",
    "else:\n",
    "    out_dir_video = Path(\"runs/detect/step3_video_fast_gpu\")\n",
    "    _ = model.predict(\n",
    "        source=str(VID),\n",
    "        imgsz=IMG_SIZE,\n",
    "        conf=CONF,\n",
    "        iou=IOU,\n",
    "        classes=CLASSES,\n",
    "        device=DEVICE,\n",
    "        max_det=MAX_DET,\n",
    "        augment=False,\n",
    "        vid_stride=2,\n",
    "        save=True,\n",
    "        project=\"runs/detect\",\n",
    "        name=\"step3_video_fast_gpu\",\n",
    "        exist_ok=True,\n",
    "        show_conf=False,\n",
    "        verbose=False,\n",
    "        stream=True\n",
    "    )\n",
    "    print(\"Video out:\", out_dir_video.resolve())"
   ]
  },
  {
   "cell_type": "code",
   "execution_count": null,
   "id": "4ca8069f",
   "metadata": {},
   "outputs": [],
   "source": []
  }
 ],
 "metadata": {
  "kernelspec": {
   "display_name": "Python (yolov8)",
   "language": "python",
   "name": "yolov8"
  },
  "language_info": {
   "codemirror_mode": {
    "name": "ipython",
    "version": 3
   },
   "file_extension": ".py",
   "mimetype": "text/x-python",
   "name": "python",
   "nbconvert_exporter": "python",
   "pygments_lexer": "ipython3",
   "version": "3.10.18"
  }
 },
 "nbformat": 4,
 "nbformat_minor": 5
}
